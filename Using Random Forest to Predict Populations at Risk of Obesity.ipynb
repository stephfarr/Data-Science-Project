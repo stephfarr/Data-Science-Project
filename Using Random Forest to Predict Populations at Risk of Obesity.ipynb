{
 "cells": [
  {
   "cell_type": "markdown",
   "id": "df0afe47",
   "metadata": {},
   "source": [
    "# Using random forest to predict populations at risk of obesity"
   ]
  },
  {
   "cell_type": "markdown",
   "id": "bb03c38c",
   "metadata": {},
   "source": [
    "# Executive Summary"
   ]
  },
  {
   "cell_type": "markdown",
   "id": "661f6d98",
   "metadata": {},
   "source": [
    "This project explores the use of Random Forest (RF) to identify cohorts at risk of obesity based on lifestyle and behavioural factors. This project uses publicly available data to serve as a proof of concept for predictive modelling in addressing the real business challenge of obesity costs within the NHS and wider public sector whilst aligning with prevention priorities for the NHS and the Bury Locality. \n",
    "\n",
    "RF was selected due to the nature of the data provided and for interpretability through feature importance. Key results include a recall of 84%, potential for generalisation and the ability to use model outputs for decision making. Visualisations such as a feature importance chart were employed to support interpretability. \n",
    "\n",
    "Recommendations include future iterations using local data, including SHAP analysis for further interpretability and targeting, and further cost-benefit analysis. This project provides a strong case study for data-driven, prevention-focused predictive modelling within the Bury Locality. "
   ]
  },
  {
   "cell_type": "markdown",
   "id": "fc9cb17d",
   "metadata": {},
   "source": [
    "# Project Background"
   ]
  },
  {
   "cell_type": "markdown",
   "id": "9e4f0d30",
   "metadata": {},
   "source": [
    "It is well documented that obesity can lead to serious health conditions (NHS, 2017) and costs the NHS around £6.5 billion per year (DHSC, 2023). Lord Darzi’s (Darzi, 2024) independent review of the NHS emphasised the need for Integrated Care Boards (ICB) to shift from reactive hospital care to preventative community care. In line with this, Bury Locality, as part of Greater Manchester Integrated Care Partnership, has established a major conditions board (‘Bury Integrated Care Partnership Locality Plan Refreshed for 2025/2026’, no date) to identify key issues, risks and gaps. \n",
    "\n",
    "This project supports that ambition by exploring the use of RF in identifying populations at higher risk of obesity based on demographic and behavioural factors. Such models could enable the Locality to target preventative interventions more effectively – ultimately improving health outcomes and achieving greater financial efficiency. "
   ]
  },
  {
   "cell_type": "markdown",
   "id": "dd937af5",
   "metadata": {},
   "source": [
    "# Methodology"
   ]
  },
  {
   "cell_type": "markdown",
   "id": "85dbc921",
   "metadata": {},
   "source": [
    "To test this approach, publicly available data from a study on obesity (Koklu, N., & Sulak, S.A., 2024) has been sought, via Kaggle, to develop a proof of concept. Whilst the dataset is not UK-based, it provides an opportunity to assess the feasibility of RF in identifying at-risk populations. The insights gained from this analysis will inform the potential application of similar models using local data.\n",
    "\n",
    "RF has been chosen due to it’s ability to handle mixed data types, non-linear relationships, imbalanced data, correlated variables and has shown to have better predictive performance than other classification models (Breiman, 2001). Feature importance is also a factor in RF that is useful to decision makers in resource targeting decisions."
   ]
  },
  {
   "cell_type": "markdown",
   "id": "2fb322aa",
   "metadata": {},
   "source": [
    "# Data Infrasrtucture & Tools"
   ]
  },
  {
   "cell_type": "markdown",
   "id": "70ef9787",
   "metadata": {},
   "source": [
    "The dataset includes demographic and behavioural factors and the variable coding was provided by the study authors."
   ]
  },
  {
   "cell_type": "markdown",
   "id": "dbd00c16",
   "metadata": {},
   "source": [
    "Image"
   ]
  },
  {
   "cell_type": "markdown",
   "id": "9844f67f",
   "metadata": {},
   "source": [
    "The data comes in an Excel spreadsheet format downloaded from Kaggle (https://www.kaggle.com/datasets/suleymansulak/obesity-dataset/data). \n",
    "\n",
    "The project was developed locally in Jupyter Notebooks but, should this lead to the development of projects using NHS data, the organisation’s cloud-based infrastructure, Snowflake, could be used to ensure the most recent data is used and is suitably secured. Snowflake includes Python integration and so code could be recreated in that environment. \n",
    "\n",
    "Libraries used in Python included pandas for data manipulation, scikit-learn for modelling, numpy for maths and matplotlib and seaborn for data visualisation. These libraries are well established and well-used for these purposes."
   ]
  },
  {
   "cell_type": "code",
   "execution_count": null,
   "id": "745de3b0",
   "metadata": {},
   "outputs": [],
   "source": [
    "## Import the libraries relevant to this project\n",
    "import pandas as pd\n",
    "import numpy as np\n",
    "import matplotlib.pyplot as plt\n",
    "import seaborn as sns\n",
    "from sklearn.model_selection import train_test_split, cross_val_score, RandomizedSearchCV\n",
    "from sklearn.ensemble import RandomForestClassifier, GradientBoostingClassifier\n",
    "from sklearn.metrics import accuracy_score, precision_score, recall_score, confusion_matrix, ConfusionMatrixDisplay\n",
    "from scipy.stats import randint"
   ]
  },
  {
   "cell_type": "markdown",
   "id": "e18dd87a",
   "metadata": {},
   "source": [
    "The data was pulled into a pandas dataframe for exploration and manipulation."
   ]
  },
  {
   "cell_type": "code",
   "execution_count": null,
   "id": "a8659773",
   "metadata": {},
   "outputs": [],
   "source": [
    "## load data into a Pandas dataframe\n",
    "\n",
    "df_obesity = pd.read_excel('Obesity_Dataset.xlsx')\n",
    "df_obesity.head()"
   ]
  },
  {
   "cell_type": "markdown",
   "id": "15234f80",
   "metadata": {},
   "source": [
    "# Data Engineering"
   ]
  },
  {
   "cell_type": "markdown",
   "id": "79244566",
   "metadata": {},
   "source": [
    "Checks were carried out for duplicate and null values. "
   ]
  },
  {
   "cell_type": "code",
   "execution_count": null,
   "id": "91129381",
   "metadata": {},
   "outputs": [],
   "source": [
    "## Basic exploration to understand data quality\n",
    "\n",
    "df_obesity.describe()"
   ]
  },
  {
   "cell_type": "code",
   "execution_count": null,
   "id": "0d86dc47",
   "metadata": {},
   "outputs": [],
   "source": [
    "## Check for any null values\n",
    "\n",
    "df_obesity.info()"
   ]
  },
  {
   "cell_type": "code",
   "execution_count": null,
   "id": "b12a5099",
   "metadata": {},
   "outputs": [],
   "source": [
    "## Check for any duplicate values\n",
    "\n",
    "df_obesity.duplicated()"
   ]
  },
  {
   "cell_type": "markdown",
   "id": "00645060",
   "metadata": {},
   "source": [
    "“For users (decision makers, analysts, experts, project stakeholder, etc), the interpretability of ML models is often as important as their predictive performance” (Haddouchi and Berrado, 2024). It is for this reason that, though it was not necessary to create bins for the Age and Height variables because RF splits the data at the optimal threshold when creating each tree, interpretability was prioritised because this project is a use-case for using predictive models in health care commissioning decision making and interventions are likely to be targeted at population groups, rather than people of individual ages and heights. After binning, the original Age and Height fields were dropped from the dataframe."
   ]
  },
  {
   "cell_type": "code",
   "execution_count": null,
   "id": "f6369a06",
   "metadata": {
    "scrolled": true
   },
   "outputs": [],
   "source": [
    "## Create bins for height and age fields\n",
    "\n",
    "bins_h = [149, 159, 169, 179, 193]\n",
    "labels_h = ['150-159', '160-169', '170-179', '180-193']\n",
    "\n",
    "df_obesity['Height_Group'] = pd.cut(df_obesity['Height'], bins=bins_h, labels=labels_h, right=True)\n",
    "\n",
    "\n",
    "bins_a = [17, 24, 34, 44, 54]\n",
    "labels_a = ['18-24', '25-34', '35-44', '45-54']\n",
    "\n",
    "df_obesity['Age_Group'] = pd.cut(df_obesity['Age'], bins=bins_a, labels=labels_a, right=True)\n",
    "\n",
    "df_obesity.head()"
   ]
  },
  {
   "cell_type": "code",
   "execution_count": null,
   "id": "ea18507e",
   "metadata": {},
   "outputs": [],
   "source": [
    "## Drop existing height and age fields\n",
    "\n",
    "df_obesity=df_obesity.drop(columns=['Age', 'Height'])"
   ]
  },
  {
   "cell_type": "code",
   "execution_count": null,
   "id": "62a036c8",
   "metadata": {
    "scrolled": true
   },
   "outputs": [],
   "source": [
    "df_obesity.head()"
   ]
  },
  {
   "cell_type": "markdown",
   "id": "a2f29cc4",
   "metadata": {},
   "source": [
    "According to Pinheiro et al, RF is not sensitive to scale so scaling of the data was not required (Pinheiro et al., 2025). If an alternative model, such as logistic regression, was used then the data would be normalised because that model is sensitive to scale. \n",
    "\n",
    "Outcome data was found to be unbalanced, therefore the decision was made to apply class weighting to ensure the model didn’t simply favour the majority classes."
   ]
  },
  {
   "cell_type": "code",
   "execution_count": null,
   "id": "693cb51e",
   "metadata": {},
   "outputs": [],
   "source": [
    "## Looking to see whether the data is unbalanced\n",
    "\n",
    "sns.countplot(data=df_obesity,x='Class')"
   ]
  },
  {
   "cell_type": "markdown",
   "id": "13d291aa",
   "metadata": {},
   "source": [
    "Data was split the data into X and Y variables and encoded because, although integers are used to represent values, they are not binary.  "
   ]
  },
  {
   "cell_type": "code",
   "execution_count": null,
   "id": "ff0ca19b",
   "metadata": {},
   "outputs": [],
   "source": [
    "## Splitting the data into x and y variables and retaining class names for interpretability\n",
    "\n",
    "X = df_obesity.drop('Class', axis=1)\n",
    "y = df_obesity['Class'] -1\n",
    "class_names = ['Underweight', 'Normal', 'Overweight', 'Obesity']"
   ]
  },
  {
   "cell_type": "code",
   "execution_count": null,
   "id": "fb0e851f",
   "metadata": {},
   "outputs": [],
   "source": [
    "## Convert fields to string so they can be encoded\n",
    "X_str = X.select_dtypes(include='int').columns\n",
    "X[X_str] = X[X_str].astype(str)\n",
    "\n",
    "## Encode the data\n",
    "X = pd.get_dummies(X)\n",
    "\n",
    "X.head()"
   ]
  },
  {
   "cell_type": "markdown",
   "id": "2c0f0b8b",
   "metadata": {},
   "source": [
    "Finally, the data was split into train and test sets with an 80%/20% split."
   ]
  },
  {
   "cell_type": "code",
   "execution_count": null,
   "id": "b316b43a",
   "metadata": {
    "scrolled": true
   },
   "outputs": [],
   "source": [
    "## 80/20 split of data into training and testing\n",
    "\n",
    "X_train, X_test, y_train, y_test = train_test_split(X, y, test_size=0.2)"
   ]
  },
  {
   "cell_type": "markdown",
   "id": "b13e60fc",
   "metadata": {},
   "source": [
    "# Data Analytics"
   ]
  },
  {
   "cell_type": "markdown",
   "id": "9f97bd44",
   "metadata": {},
   "source": [
    "The data was checked for the best hyperparameters to use in RF and those hyperparameters applied to produce the best model. \n",
    "\n",
    "According to (Rimal, Y., Sharma, N., Paudel, S. et al., 2025) “Cross-validation is a robust statistical approach to evaluating machine learning models by systematically splitting data into training and testing subsets. This method ensures models generalize effectively to unseen data, minimizing the risks of overfitting and underfitting.” and so cross-validation was included in the analysis."
   ]
  },
  {
   "cell_type": "code",
   "execution_count": null,
   "id": "8fd0fdfa",
   "metadata": {},
   "outputs": [],
   "source": [
    "## Random Forest with hyperparameter tuning\n",
    "param_dist = {'n_estimators': randint(50, 500), 'max_depth': randint(1, 20)}\n",
    "rf = RandomForestClassifier(class_weight='balanced', random_state=42)\n",
    "rand_search = RandomizedSearchCV(rf, param_distributions=param_dist, n_iter=5, cv=5, random_state=42)\n",
    "rand_search.fit(X_train, y_train)\n",
    "best_rf = rand_search.best_estimator_"
   ]
  },
  {
   "cell_type": "code",
   "execution_count": null,
   "id": "2ca1653f",
   "metadata": {},
   "outputs": [],
   "source": [
    "## Using the best Random Forest model to predict, create evaluation metrics and carry out cross-validation\n",
    "y_pred_rf = best_rf.predict(X_test)\n",
    "acc_rf = accuracy_score(y_test, y_pred_rf)\n",
    "prec_rf = precision_score(y_test, y_pred_rf, average='weighted')\n",
    "rec_rf = recall_score(y_test, y_pred_rf, average='weighted')\n",
    "cv_scores_rf = cross_val_score(best_rf, X, y, cv=5)"
   ]
  },
  {
   "cell_type": "markdown",
   "id": "272ae970",
   "metadata": {},
   "source": [
    "Gradient Boosting (GB) is an alternative model to RF (Natekin and Knoll, 2013). To ensure the best model was used for the project, a GB model was also produced to compare against RF."
   ]
  },
  {
   "cell_type": "code",
   "execution_count": null,
   "id": "91fc8d45",
   "metadata": {},
   "outputs": [],
   "source": [
    "## Additional model for comparision: Gradient Boosting\n",
    "gb = GradientBoostingClassifier(random_state=42)\n",
    "gb.fit(X_train, y_train)\n",
    "y_pred_gb = gb.predict(X_test)\n",
    "acc_gb = accuracy_score(y_test, y_pred_gb)\n",
    "prec_gb = precision_score(y_test, y_pred_gb, average='weighted')\n",
    "rec_gb = recall_score(y_test, y_pred_gb, average='weighted')\n",
    "cv_scores_gb = cross_val_score(gb, X, y, cv=5)"
   ]
  },
  {
   "cell_type": "markdown",
   "id": "894a2075",
   "metadata": {},
   "source": [
    "Confusion matrices were produced for both models and feature importance calculated."
   ]
  },
  {
   "cell_type": "code",
   "execution_count": null,
   "id": "721f15e0",
   "metadata": {},
   "outputs": [],
   "source": [
    "## Creating confusion matrices of both models\n",
    "cm_rf = confusion_matrix(y_test, y_pred_rf)\n",
    "cm_gb = confusion_matrix(y_test, y_pred_gb)"
   ]
  },
  {
   "cell_type": "code",
   "execution_count": null,
   "id": "007f5c88",
   "metadata": {},
   "outputs": [],
   "source": [
    "## Calculating feature importance to the model\n",
    "feature_importances = pd.Series(best_rf.feature_importances_, index=X.columns).sort_values(ascending=False)\n",
    "top_features = feature_importances.head(20)"
   ]
  },
  {
   "cell_type": "code",
   "execution_count": null,
   "id": "3149aec8",
   "metadata": {
    "scrolled": false
   },
   "outputs": [],
   "source": [
    "## Create the visualisations for importance and model evaluation\n",
    "plt.figure(figsize=(10, 6))\n",
    "top_features.plot.bar()\n",
    "plt.title(\"Top 20 Feature Importances (Random Forest)\")\n",
    "plt.tight_layout()\n",
    "plt.savefig(\"feature_importance_rf.png\")\n",
    "plt.show()\n",
    "\n",
    "ConfusionMatrixDisplay(confusion_matrix=cm_rf, display_labels=class_names).plot()\n",
    "plt.title(\"Confusion Matrix with class labels - Random Forest\")\n",
    "plt.savefig(\"confusion_matrix_rf.png\")\n",
    "plt.show()\n",
    "\n",
    "ConfusionMatrixDisplay(confusion_matrix=cm_gb, display_labels=class_names).plot()\n",
    "plt.title(\"Confusion Matrix with class labels - Gradient Boosting\")\n",
    "plt.savefig(\"confusion_matrix_gb.png\")\n",
    "plt.show()"
   ]
  },
  {
   "cell_type": "markdown",
   "id": "4a63cef8",
   "metadata": {},
   "source": [
    "# Results"
   ]
  },
  {
   "cell_type": "markdown",
   "id": "e8e9b118",
   "metadata": {},
   "source": [
    "Recall is the most important metric to this project as the cost to the NHS of missing a patient to offer health advice is more than providing advice to those who might not need it. "
   ]
  },
  {
   "cell_type": "code",
   "execution_count": null,
   "id": "5775d3f8",
   "metadata": {
    "scrolled": true
   },
   "outputs": [],
   "source": [
    "## Print model evaluation metrics for both RF and GB for comparison\n",
    "print(\"Random Forest:\")\n",
    "print(\"Accuracy:\", acc_rf)\n",
    "print(\"Precision:\", prec_rf)\n",
    "print(\"Recall:\", rec_rf)\n",
    "print(\"CV Accuracy Scores:\", cv_scores_rf)\n",
    "print(\"Mean CV Accuracy:\", np.mean(cv_scores_rf))\n",
    "\n",
    "print(\"\\nGradient Boosting:\")\n",
    "print(\"Accuracy:\", acc_gb)\n",
    "print(\"Precision:\", prec_gb)\n",
    "print(\"Recall:\", rec_gb)\n",
    "print(\"CV Accuracy Scores:\", cv_scores_gb)\n",
    "print(\"Mean CV Accuracy:\", np.mean(cv_scores_gb))"
   ]
  },
  {
   "cell_type": "markdown",
   "id": "c2d126c0",
   "metadata": {},
   "source": [
    "Recall for RF was 84% which means the model is performing well. The high CV accuracy scores indicate that the model would generalise well and RF outperformed Gradient Boosting on all evaluation metrics. \n",
    "\n",
    "The confusion matrices indicate that RF predicted the class closer to the true class than GB. For example, GB incorrectly predicted 3 obese individuals as normal whilst RF predicted only one. \n",
    "Feature importance analysis revealed that the most important features were:\n",
    "\n",
    "•\tPhysical exercise – no physical activity\n",
    "\n",
    "•\tFrequency of vegetable consumption - always\n",
    "\n",
    "•\tNumber of main meals daily – 3+"
   ]
  },
  {
   "cell_type": "markdown",
   "id": "c0534c00",
   "metadata": {},
   "source": [
    "# Data Visualisation and Dashboards"
   ]
  },
  {
   "cell_type": "markdown",
   "id": "f7258404",
   "metadata": {},
   "source": [
    "To aid in communicating findings from the model, visualisations for feature importance and confusion matrices were created. Decision makers come from a variety of backgrounds but many would not know how to interpret a confusion matrix therefore they were created with the original class labels included to aid in interpretation by non-technical audiences.\n",
    "\n",
    "Feature importance visualisation is particularly useful to decision makers as these help to prioritise interventions based on lifestyle factors. Future iterations could include interactive dashboards for decision makers to explore the data in more detail, particularly if future iterations include demographic information so end-users can explore the most important features for different cohorts. "
   ]
  },
  {
   "cell_type": "markdown",
   "id": "5351a366",
   "metadata": {},
   "source": [
    "# Impact and Conclusions"
   ]
  },
  {
   "cell_type": "markdown",
   "id": "78d098cb",
   "metadata": {},
   "source": [
    "The model demonstrates strong predictive capability in identifying individuals at risk of obesity. Its generalisability to new data suggests a similar model could have application in a real-world setting and directly inform intervention planning. \n",
    "\n",
    "Nudge theory suggests behaviour change intervention is most effective at a change in life stage (Behavioural Insights Team, 2024). Health visitors could use these results to advise parents of new school starters about the benefits of active travel in reducing obesity risk. A cost-benefit analysis of planned interventions would strengthen decision making.\n",
    "\n",
    "Whilst this project provides a strong use-case for predictive modelling in targeting preventative NHS interventions, the data is not local and therefore will contain bias towards the population it was collected from. \n",
    "\n",
    "Future iterations of the model could use a binary outcome instead of multi-class (e.g., overweight/obese vs not) to improve predictive power and interpretability. SHAP analysis could explains feature contributions to individual predictions (Kim and Kim, 2022). Deprivation or poverty indicators would support segmentation of people within interactive dashboards to assess health inequalities and support the Locality’s strategic focus in this area. "
   ]
  },
  {
   "cell_type": "markdown",
   "id": "b4dd09d3",
   "metadata": {},
   "source": [
    "# References"
   ]
  },
  {
   "cell_type": "markdown",
   "id": "3122a6e8",
   "metadata": {},
   "source": [
    "Behavioural Insights Team (2024) ‘EAST: Four Simple Ways to Apply Behavioural Insights’, BIT, 16 December. Available at: https://www.bi.team/publications/east-four-simple-ways-to-apply-behavioural-insights/ (Accessed: 7 July 2025).\n",
    "\n",
    "Breiman, L. (2001) ‘Random Forests’, Machine Learning, 45(1), pp. 5–32. Available at: https://doi.org/10.1023/A:1010933404324.\n",
    "\n",
    "‘Bury Integrated Care Partnership Locality Plan Refreshed for 2025/2026’ (no date). Available at: https://councildecisions.bury.gov.uk/documents/s43774/finalv13%20locality%20plan%20refresh%202526%20draft%2014.03.25%20vWB.pdf (Accessed: 30 June 2025).\n",
    "\n",
    "Darzi, A. (2024) ‘Independent Investigation of the National Health Service in England’. UK Government. Available at: https://assets.publishing.service.gov.uk/media/66f42ae630536cb92748271f/Lord-Darzi-Independent-Investigation-of-the-National-Health-Service-in-England-Updated-25-September.pdf (Accessed: 30 June 2025).\n",
    "\n",
    "DHSC (2023) ‘Government plans to tackle obesity in England – Department of Health and Social Care Media Centre’, 7 June. Available at: https://healthmedia.blog.gov.uk/2023/06/07/government-plans-to-tackle-obesity-in-england/ (Accessed: 30 June 2025).\n",
    "\n",
    "Haddouchi, M. and Berrado, A. (2024) ‘A survey and taxonomy of methods interpreting random forest models’. arXiv. Available at: https://doi.org/10.48550/arXiv.2407.12759.\n",
    "\n",
    "Kim, Yesuel and Kim, Youngchul (2022) ‘Explainable heat-related mortality with random forest and SHapley Additive exPlanations (SHAP) models’, Sustainable Cities and Society, 79, p. 103677. Available at: https://doi.org/10.1016/j.scs.2022.103677.\n",
    "\n",
    "Koklu, N., & Sulak, S.A. (2024) Obesity Dataset. Available at: https://www.kaggle.com/datasets/suleymansulak/obesity-dataset (Accessed: 30 June 2025).\n",
    "\n",
    "Natekin, A. and Knoll, A. (2013) ‘Gradient boosting machines, a tutorial’, Frontiers in Neurorobotics, 7, p. 21. Available at: https://doi.org/10.3389/fnbot.2013.00021.\n",
    "\n",
    "NHS (2017) Obesity, nhs.uk. Available at: https://www.nhs.uk/conditions/obesity/ (Accessed: 30 June 2025).\n",
    "\n",
    "Pinheiro, J.M.H. et al. (2025) ‘The Impact of Feature Scaling In Machine Learning: Effects on Regression and Classification Tasks’. arXiv. Available at: https://doi.org/10.48550/arXiv.2506.08274.\n",
    "\n",
    "Rimal, Y., Sharma, N., Paudel, S. et al. (2025) Comparative analysis of heart disease prediction using logistic regression, SVM, KNN, and random forest with cross-validation for improved accuracy. Available at: https://www.nature.com/articles/s41598-025-93675-1 (Accessed: 1 July 2025)."
   ]
  }
 ],
 "metadata": {
  "kernelspec": {
   "display_name": "Python 3 (ipykernel)",
   "language": "python",
   "name": "python3"
  },
  "language_info": {
   "codemirror_mode": {
    "name": "ipython",
    "version": 3
   },
   "file_extension": ".py",
   "mimetype": "text/x-python",
   "name": "python",
   "nbconvert_exporter": "python",
   "pygments_lexer": "ipython3",
   "version": "3.11.4"
  }
 },
 "nbformat": 4,
 "nbformat_minor": 5
}
